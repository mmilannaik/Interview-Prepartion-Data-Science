{
  "cells": [
    {
      "cell_type": "markdown",
      "metadata": {
        "id": "view-in-github",
        "colab_type": "text"
      },
      "source": [
        "<a href=\"https://colab.research.google.com/github/mmilannaik/Interview-Prepartion-Data-Science/blob/master/W1_Interview_coding.ipynb\" target=\"_parent\"><img src=\"https://colab.research.google.com/assets/colab-badge.svg\" alt=\"Open In Colab\"/></a>"
      ]
    },
    {
      "cell_type": "markdown",
      "source": [
        "# Theoretical Concepts"
      ],
      "metadata": {
        "id": "OceIT5y-AR3v"
      },
      "id": "OceIT5y-AR3v"
    },
    {
      "cell_type": "markdown",
      "source": [],
      "metadata": {
        "id": "qy_VZtdAAWvb"
      },
      "id": "qy_VZtdAAWvb"
    },
    {
      "cell_type": "markdown",
      "source": [
        "## Repr"
      ],
      "metadata": {
        "id": "AxRM636-Da91"
      },
      "id": "AxRM636-Da91"
    },
    {
      "cell_type": "code",
      "source": [
        "class Person:\n",
        "  def __init__(self,name,age,gender):\n",
        "    self.name = name\n",
        "    self.age = age\n",
        "    self.gender = gender\n",
        "\n",
        "  def __repr__(self):\n",
        "    return f\"Person(name='{self.name}, age={self.age}, gender={self.gender})\""
      ],
      "metadata": {
        "id": "OWAGrPcHAQ3Y"
      },
      "id": "OWAGrPcHAQ3Y",
      "execution_count": null,
      "outputs": []
    },
    {
      "cell_type": "code",
      "source": [
        "jack = Person(\"Jack\",25,\"Male\")"
      ],
      "metadata": {
        "id": "JeaNdjQ_Atxs"
      },
      "id": "JeaNdjQ_Atxs",
      "execution_count": null,
      "outputs": []
    },
    {
      "cell_type": "code",
      "source": [
        "jack"
      ],
      "metadata": {
        "colab": {
          "base_uri": "https://localhost:8080/"
        },
        "id": "uTvuxDmmBD7Y",
        "outputId": "d191e7a3-592b-4def-e0ec-970404b71ef4"
      },
      "id": "uTvuxDmmBD7Y",
      "execution_count": null,
      "outputs": [
        {
          "output_type": "execute_result",
          "data": {
            "text/plain": [
              "Person(name='Jack, age=25, gender=Male)"
            ]
          },
          "metadata": {},
          "execution_count": 3
        }
      ]
    },
    {
      "cell_type": "markdown",
      "source": [],
      "metadata": {
        "id": "GaMK6Fl9AQdU"
      },
      "id": "GaMK6Fl9AQdU"
    },
    {
      "cell_type": "markdown",
      "source": [
        "## Decorator"
      ],
      "metadata": {
        "id": "EPjFbn_WDeOd"
      },
      "id": "EPjFbn_WDeOd"
    },
    {
      "cell_type": "code",
      "source": [
        "# decorator\n",
        "def dec_func(func):\n",
        "  def wrapper():\n",
        "    print(\"This is decorator\")\n",
        "    func()\n",
        "  return wrapper"
      ],
      "metadata": {
        "id": "DRlZFL4EDvW7"
      },
      "id": "DRlZFL4EDvW7",
      "execution_count": null,
      "outputs": []
    },
    {
      "cell_type": "code",
      "source": [
        "def orig_func():\n",
        "  print(\"This is original function\")"
      ],
      "metadata": {
        "id": "l0lhvdBJDgLS"
      },
      "id": "l0lhvdBJDgLS",
      "execution_count": null,
      "outputs": []
    },
    {
      "cell_type": "code",
      "source": [
        "orig_func()"
      ],
      "metadata": {
        "colab": {
          "base_uri": "https://localhost:8080/"
        },
        "id": "2qMQvu5oDgHv",
        "outputId": "74a95f6f-b86b-4e52-b4db-b61ec72434d2"
      },
      "id": "2qMQvu5oDgHv",
      "execution_count": null,
      "outputs": [
        {
          "output_type": "stream",
          "name": "stdout",
          "text": [
            "This is original function\n"
          ]
        }
      ]
    },
    {
      "cell_type": "code",
      "source": [
        "@dec_func\n",
        "def orig_func():\n",
        "  print(\"This is original function\")"
      ],
      "metadata": {
        "id": "5Fa0ALuRDvTZ"
      },
      "id": "5Fa0ALuRDvTZ",
      "execution_count": null,
      "outputs": []
    },
    {
      "cell_type": "code",
      "source": [
        "orig_func()"
      ],
      "metadata": {
        "colab": {
          "base_uri": "https://localhost:8080/"
        },
        "id": "OyJRQ-3VDvRT",
        "outputId": "a3e42747-adee-470b-bb73-53c19884882b"
      },
      "id": "OyJRQ-3VDvRT",
      "execution_count": null,
      "outputs": [
        {
          "output_type": "stream",
          "name": "stdout",
          "text": [
            "This is decorator\n",
            "This is original function\n"
          ]
        }
      ]
    },
    {
      "cell_type": "markdown",
      "source": [
        "## Scopes"
      ],
      "metadata": {
        "id": "2-jFR3y2N_I_"
      },
      "id": "2-jFR3y2N_I_"
    },
    {
      "cell_type": "code",
      "source": [],
      "metadata": {
        "id": "rY70hneqN_-R"
      },
      "id": "rY70hneqN_-R",
      "execution_count": null,
      "outputs": []
    },
    {
      "cell_type": "code",
      "source": [],
      "metadata": {
        "id": "82kffJ0AOB-y"
      },
      "id": "82kffJ0AOB-y",
      "execution_count": null,
      "outputs": []
    },
    {
      "cell_type": "markdown",
      "source": [
        "# Week 1"
      ],
      "metadata": {
        "id": "Lxga7FUlIby5"
      },
      "id": "Lxga7FUlIby5"
    },
    {
      "cell_type": "markdown",
      "source": [
        "## String Reverse"
      ],
      "metadata": {
        "id": "p_mKtaiTIjoX"
      },
      "id": "p_mKtaiTIjoX"
    },
    {
      "cell_type": "code",
      "source": [
        "Input: \"EYInterview\"\n",
        "Output: \"weivretnIYE\""
      ],
      "metadata": {
        "id": "M7HO9lNCIP0p"
      },
      "id": "M7HO9lNCIP0p",
      "execution_count": null,
      "outputs": []
    },
    {
      "cell_type": "code",
      "source": [
        "def reverse_string(s):\n",
        "  char_list = list(s)\n",
        "  left,right = 0,len(char_list)-1\n",
        "  while left<right:\n",
        "    char_list[left],char_list[right]= char_list[right],char_list[left]\n",
        "    left+=1\n",
        "    right-=1\n",
        "  return \"\".join(char_list)\n"
      ],
      "metadata": {
        "id": "3K7DINTMVkP1"
      },
      "id": "3K7DINTMVkP1",
      "execution_count": null,
      "outputs": []
    },
    {
      "cell_type": "code",
      "source": [
        "a = \"EYInterview\"\n",
        "reverse_string(a)"
      ],
      "metadata": {
        "id": "oh-K661sJNXU",
        "outputId": "7bca945a-b322-4eb2-cefb-da7f134a593a",
        "colab": {
          "base_uri": "https://localhost:8080/",
          "height": 36
        }
      },
      "id": "oh-K661sJNXU",
      "execution_count": null,
      "outputs": [
        {
          "output_type": "execute_result",
          "data": {
            "text/plain": [
              "'weivretnIYE'"
            ],
            "application/vnd.google.colaboratory.intrinsic+json": {
              "type": "string"
            }
          },
          "metadata": {},
          "execution_count": 12
        }
      ]
    },
    {
      "cell_type": "markdown",
      "source": [
        "## Check for Palindrome\n"
      ],
      "metadata": {
        "id": "BqTh28uFomA2"
      },
      "id": "BqTh28uFomA2"
    },
    {
      "cell_type": "markdown",
      "source": [
        "Input: \"racecar\"\n",
        "Output: True"
      ],
      "metadata": {
        "id": "NCJ19SYYpIpd"
      },
      "id": "NCJ19SYYpIpd"
    },
    {
      "cell_type": "code",
      "source": [
        "a = \"racecar\""
      ],
      "metadata": {
        "id": "xIA6Xqlqopn-"
      },
      "id": "xIA6Xqlqopn-",
      "execution_count": null,
      "outputs": []
    },
    {
      "cell_type": "code",
      "source": [
        "if a ==a[::-1]:\n",
        " print(True)"
      ],
      "metadata": {
        "id": "jeSeutYCopkn",
        "outputId": "1e49e112-9c2c-404a-aac8-a35a1de470df",
        "colab": {
          "base_uri": "https://localhost:8080/"
        }
      },
      "id": "jeSeutYCopkn",
      "execution_count": null,
      "outputs": [
        {
          "output_type": "stream",
          "name": "stdout",
          "text": [
            "True\n"
          ]
        }
      ]
    },
    {
      "cell_type": "code",
      "source": [
        "def palindrome_st(s):\n",
        "  s = ''.join(s.split()).lower()\n",
        "  left, right = 0,len(s)-1\n",
        "  while left < right:\n",
        "    if s[left]!=s[right]:\n",
        "      return False\n",
        "    left +=1\n",
        "    right -=1\n",
        "  return True\n",
        "\n"
      ],
      "metadata": {
        "id": "NwD6HbatopiR"
      },
      "id": "NwD6HbatopiR",
      "execution_count": null,
      "outputs": []
    },
    {
      "cell_type": "code",
      "source": [
        "palindrome_st(a)"
      ],
      "metadata": {
        "id": "ZrRFaW6UswLg",
        "outputId": "1d0bac17-fd3c-4f5b-c575-e51b7dba0fdd",
        "colab": {
          "base_uri": "https://localhost:8080/"
        }
      },
      "id": "ZrRFaW6UswLg",
      "execution_count": null,
      "outputs": [
        {
          "output_type": "execute_result",
          "data": {
            "text/plain": [
              "True"
            ]
          },
          "metadata": {},
          "execution_count": 7
        }
      ]
    },
    {
      "cell_type": "markdown",
      "source": [
        "## Factorial Cal"
      ],
      "metadata": {
        "id": "Su0EYypqJl74"
      },
      "id": "Su0EYypqJl74"
    },
    {
      "cell_type": "markdown",
      "source": [
        "factorial(5)  # Output: 120  (5! = 5 * 4 * 3 * 2 * 1)"
      ],
      "metadata": {
        "id": "BCTe6jGsJynu"
      },
      "id": "BCTe6jGsJynu"
    },
    {
      "cell_type": "code",
      "source": [
        "def fact(n):\n",
        "  if n==0:\n",
        "    return 1\n",
        "  else:\n",
        "    return n*fact(n-1)\n",
        "\n",
        "fact(5)"
      ],
      "metadata": {
        "id": "OYsT6G1oJyBL",
        "outputId": "d6dae7cc-a26b-452b-b62d-a508f3923e30",
        "colab": {
          "base_uri": "https://localhost:8080/"
        }
      },
      "id": "OYsT6G1oJyBL",
      "execution_count": null,
      "outputs": [
        {
          "output_type": "execute_result",
          "data": {
            "text/plain": [
              "120"
            ]
          },
          "metadata": {},
          "execution_count": 1
        }
      ]
    },
    {
      "cell_type": "markdown",
      "source": [
        "## Fibonacci"
      ],
      "metadata": {
        "id": "uJR8UnBiKENc"
      },
      "id": "uJR8UnBiKENc"
    },
    {
      "cell_type": "markdown",
      "source": [
        "fibonacci(6)  # Output: [0, 1, 1, 2, 3, 5]"
      ],
      "metadata": {
        "id": "4njJPyo8KL8P"
      },
      "id": "4njJPyo8KL8P"
    },
    {
      "cell_type": "code",
      "source": [
        "def fibo(n):\n",
        "  fiblist =[0,1]\n",
        "  for i in range(2,n+1):\n",
        "    fiblist.append(fiblist[i-1]+fiblist[i-2])\n",
        "  return fiblist\n",
        "fibo(2)"
      ],
      "metadata": {
        "id": "142RTv5cKE7J",
        "outputId": "4956f2a5-b838-468a-f689-4f9f6c91df6d",
        "colab": {
          "base_uri": "https://localhost:8080/"
        }
      },
      "id": "142RTv5cKE7J",
      "execution_count": null,
      "outputs": [
        {
          "output_type": "execute_result",
          "data": {
            "text/plain": [
              "[0, 1, 1]"
            ]
          },
          "metadata": {},
          "execution_count": 3
        }
      ]
    },
    {
      "cell_type": "markdown",
      "source": [
        "## Prime number check"
      ],
      "metadata": {
        "id": "gVIv9dv7K6Ir"
      },
      "id": "gVIv9dv7K6Ir"
    },
    {
      "cell_type": "markdown",
      "source": [
        "is_prime(7)  # Output: True\n",
        "is_prime(10)  # Output: False\n"
      ],
      "metadata": {
        "id": "s9qPIi_HK6uf"
      },
      "id": "s9qPIi_HK6uf"
    },
    {
      "cell_type": "code",
      "source": [
        "def isprime(n):\n",
        "  if n>1:\n",
        "    for i in range(2,(n//2)+1):\n",
        "      if n%i==0:\n",
        "        return False\n",
        "      else:\n",
        "        return True\n",
        "  else:\n",
        "    return False\n",
        "isprime(10)"
      ],
      "metadata": {
        "id": "xWypZx0VK7Dk",
        "outputId": "672f2b68-f46b-4586-ef45-b66985dc5ace",
        "colab": {
          "base_uri": "https://localhost:8080/"
        }
      },
      "id": "xWypZx0VK7Dk",
      "execution_count": null,
      "outputs": [
        {
          "output_type": "execute_result",
          "data": {
            "text/plain": [
              "False"
            ]
          },
          "metadata": {},
          "execution_count": 10
        }
      ]
    },
    {
      "cell_type": "code",
      "source": [
        "isprime(7)"
      ],
      "metadata": {
        "id": "wmQHEH-PPF_i",
        "outputId": "ec2b0970-cbfc-42cc-bd95-33bff3cdecde",
        "colab": {
          "base_uri": "https://localhost:8080/"
        }
      },
      "id": "wmQHEH-PPF_i",
      "execution_count": null,
      "outputs": [
        {
          "output_type": "execute_result",
          "data": {
            "text/plain": [
              "True"
            ]
          },
          "metadata": {},
          "execution_count": 11
        }
      ]
    },
    {
      "cell_type": "markdown",
      "source": [
        "## Count Frequency of Characters"
      ],
      "metadata": {
        "id": "El7iJhSeaCKu"
      },
      "id": "El7iJhSeaCKu"
    },
    {
      "cell_type": "markdown",
      "source": [
        "Write a function char_frequency(s: str) -> dict that takes a string and returns a dictionary where the keys are the characters and the values are the counts of those characters in the string."
      ],
      "metadata": {
        "id": "eG8PeQEnaHg5"
      },
      "id": "eG8PeQEnaHg5"
    },
    {
      "cell_type": "code",
      "source": [
        "def count_freq(n):\n",
        "  ans ={}\n",
        "  for i in n:\n",
        "    if i not in ans:\n",
        "      ans[i] = 1\n",
        "    elif i in ans:\n",
        "      ans[i]+=1\n",
        "  return ans\n",
        "\n",
        "count_freq('hello')"
      ],
      "metadata": {
        "colab": {
          "base_uri": "https://localhost:8080/"
        },
        "id": "RqdzxCM3aEwd",
        "outputId": "f72bc224-95d3-45ac-cc30-3a9861d532e8"
      },
      "id": "RqdzxCM3aEwd",
      "execution_count": null,
      "outputs": [
        {
          "output_type": "execute_result",
          "data": {
            "text/plain": [
              "{'h': 1, 'e': 1, 'l': 2, 'o': 1}"
            ]
          },
          "metadata": {},
          "execution_count": 5
        }
      ]
    },
    {
      "cell_type": "code",
      "source": [
        "count_freq(\"hello world\")"
      ],
      "metadata": {
        "colab": {
          "base_uri": "https://localhost:8080/"
        },
        "id": "2zNrJrLbaEtB",
        "outputId": "afc749b6-dd1b-4246-e997-4448be594777"
      },
      "id": "2zNrJrLbaEtB",
      "execution_count": null,
      "outputs": [
        {
          "output_type": "execute_result",
          "data": {
            "text/plain": [
              "{'h': 1, 'e': 1, 'l': 3, 'o': 2, ' ': 1, 'w': 1, 'r': 1, 'd': 1}"
            ]
          },
          "metadata": {},
          "execution_count": 6
        }
      ]
    },
    {
      "cell_type": "markdown",
      "source": [
        "## Merge Sorted lists"
      ],
      "metadata": {
        "id": "eO8H3pC4b2ju"
      },
      "id": "eO8H3pC4b2ju"
    },
    {
      "cell_type": "markdown",
      "source": [
        "Write a function merge_sorted_lists(list1: list, list2: list) -> list that takes two sorted lists of integers and returns a new list that contains all elements from both lists in sorted order."
      ],
      "metadata": {
        "id": "QVairGXjb-EE"
      },
      "id": "QVairGXjb-EE"
    },
    {
      "cell_type": "code",
      "source": [
        "def merge_sorted_lists(list1,list2):\n",
        "  ans = []\n",
        "  ans.extend(list1)\n",
        "  ans.extend(list2)\n",
        "  return sorted(ans)"
      ],
      "metadata": {
        "id": "WuDiYaTsaEqz"
      },
      "id": "WuDiYaTsaEqz",
      "execution_count": null,
      "outputs": []
    },
    {
      "cell_type": "code",
      "source": [
        "merge_sorted_lists([1, 3, 5], [2, 4, 6])"
      ],
      "metadata": {
        "colab": {
          "base_uri": "https://localhost:8080/"
        },
        "id": "7kvSVi9naEom",
        "outputId": "9421fe9a-ea58-4903-9121-716a4bc34cb4"
      },
      "id": "7kvSVi9naEom",
      "execution_count": null,
      "outputs": [
        {
          "output_type": "execute_result",
          "data": {
            "text/plain": [
              "[1, 2, 3, 4, 5, 6]"
            ]
          },
          "metadata": {},
          "execution_count": 14
        }
      ]
    },
    {
      "cell_type": "markdown",
      "source": [
        "## Remove Duplicates from a List"
      ],
      "metadata": {
        "id": "Bc7VtZmjczYY"
      },
      "id": "Bc7VtZmjczYY"
    },
    {
      "cell_type": "markdown",
      "source": [
        "Write a function remove_duplicates(lst: list) -> list that takes a list and returns a new list with duplicate elements removed, while preserving the original order."
      ],
      "metadata": {
        "id": "vIf6gE5wc39Q"
      },
      "id": "vIf6gE5wc39Q"
    },
    {
      "cell_type": "code",
      "source": [
        "def remove_duplicates(lst):\n",
        "  return list(set(lst))"
      ],
      "metadata": {
        "id": "OdxIGGt9c7RZ"
      },
      "id": "OdxIGGt9c7RZ",
      "execution_count": null,
      "outputs": []
    },
    {
      "cell_type": "code",
      "source": [
        "remove_duplicates([1, 2, 2, 3, 4, 4, 5])"
      ],
      "metadata": {
        "colab": {
          "base_uri": "https://localhost:8080/"
        },
        "id": "29WpSoPAc7N5",
        "outputId": "222a2717-02b8-436c-ee81-cf7e5b4deb99"
      },
      "id": "29WpSoPAc7N5",
      "execution_count": null,
      "outputs": [
        {
          "output_type": "execute_result",
          "data": {
            "text/plain": [
              "[1, 2, 3, 4, 5]"
            ]
          },
          "metadata": {},
          "execution_count": 16
        }
      ]
    },
    {
      "cell_type": "markdown",
      "source": [
        "## Find Common Elements Between Two Lists"
      ],
      "metadata": {
        "id": "NL2JONJWdF79"
      },
      "id": "NL2JONJWdF79"
    },
    {
      "cell_type": "markdown",
      "source": [
        "Write a function common_elements(list1: list, list2: list) -> list that returns a list of elements that are common to both input lists (each common element should appear only once in the result)."
      ],
      "metadata": {
        "id": "lRh87aXwdIZe"
      },
      "id": "lRh87aXwdIZe"
    },
    {
      "cell_type": "code",
      "source": [
        "def common_elements(list1,list2):\n",
        "  return list(set(list1) & set(list2))"
      ],
      "metadata": {
        "id": "E9R2kUGzc7LJ"
      },
      "id": "E9R2kUGzc7LJ",
      "execution_count": null,
      "outputs": []
    },
    {
      "cell_type": "code",
      "source": [
        "common_elements([1, 2, 3, 4], [3, 4, 5, 6])"
      ],
      "metadata": {
        "colab": {
          "base_uri": "https://localhost:8080/"
        },
        "id": "Kgr8wHsAdYIE",
        "outputId": "723a92d7-f5dc-4591-c03e-257fd32775aa"
      },
      "id": "Kgr8wHsAdYIE",
      "execution_count": null,
      "outputs": [
        {
          "output_type": "execute_result",
          "data": {
            "text/plain": [
              "[3, 4]"
            ]
          },
          "metadata": {},
          "execution_count": 18
        }
      ]
    },
    {
      "cell_type": "markdown",
      "source": [],
      "metadata": {
        "id": "nhhIh16BPKkK"
      },
      "id": "nhhIh16BPKkK"
    },
    {
      "cell_type": "markdown",
      "source": [
        "## Greatest Common Divisor (GCD)"
      ],
      "metadata": {
        "id": "nB4MvTv4dd6Y"
      },
      "id": "nB4MvTv4dd6Y"
    },
    {
      "cell_type": "markdown",
      "source": [
        "Write a function gcd(a: int, b: int) -> int that computes the greatest common divisor of two integers using Euclid's algorithm."
      ],
      "metadata": {
        "id": "CfxDg-kWddkU"
      },
      "id": "CfxDg-kWddkU"
    },
    {
      "cell_type": "code",
      "source": [
        "def gcd(a,b):\n",
        "  if b==0:\n",
        "    return a\n",
        "  else:\n",
        "    return gcd(b,a%b)"
      ],
      "metadata": {
        "id": "WnPxQ7gVfs4r"
      },
      "id": "WnPxQ7gVfs4r",
      "execution_count": null,
      "outputs": []
    },
    {
      "cell_type": "code",
      "source": [
        "gcd(48, 18)"
      ],
      "metadata": {
        "colab": {
          "base_uri": "https://localhost:8080/"
        },
        "id": "D1Suqnmsfsyz",
        "outputId": "27a4bf22-ecf2-47df-852d-8576779f02be"
      },
      "id": "D1Suqnmsfsyz",
      "execution_count": null,
      "outputs": [
        {
          "output_type": "execute_result",
          "data": {
            "text/plain": [
              "6"
            ]
          },
          "metadata": {},
          "execution_count": 24
        }
      ]
    },
    {
      "cell_type": "markdown",
      "source": [
        "# *Basic-50*"
      ],
      "metadata": {
        "id": "Gkyd0u0AyWdQ"
      },
      "id": "Gkyd0u0AyWdQ"
    },
    {
      "cell_type": "markdown",
      "source": [
        "## 1.Anagram Checker"
      ],
      "metadata": {
        "id": "0hWP-SeEg7P0"
      },
      "id": "0hWP-SeEg7P0"
    },
    {
      "cell_type": "markdown",
      "source": [
        "Write a function are_anagrams(s1: str, s2: str) -> bool that checks if two strings are anagrams of each other (i.e., they contain the same characters in any order)."
      ],
      "metadata": {
        "id": "ORJ5-o_VhAR-"
      },
      "id": "ORJ5-o_VhAR-"
    },
    {
      "cell_type": "markdown",
      "source": [],
      "metadata": {
        "id": "hFy3pouNg7KB"
      },
      "id": "hFy3pouNg7KB"
    },
    {
      "cell_type": "code",
      "source": [
        "def anag(a,b):\n",
        "  for i in a:\n",
        "    if i not in b:\n",
        "      return False\n",
        "  return True"
      ],
      "metadata": {
        "id": "981Nlx55hK6B"
      },
      "id": "981Nlx55hK6B",
      "execution_count": null,
      "outputs": []
    },
    {
      "cell_type": "code",
      "source": [
        "anag(\"listen\", \"silent\")"
      ],
      "metadata": {
        "colab": {
          "base_uri": "https://localhost:8080/"
        },
        "id": "BpgfSWJht5GN",
        "outputId": "386bd79f-55c1-443b-eb9b-df15009be95a"
      },
      "id": "BpgfSWJht5GN",
      "execution_count": null,
      "outputs": [
        {
          "output_type": "execute_result",
          "data": {
            "text/plain": [
              "True"
            ]
          },
          "metadata": {},
          "execution_count": 4
        }
      ]
    },
    {
      "cell_type": "markdown",
      "source": [
        "## 2.Sum of Digits(Recursive)"
      ],
      "metadata": {
        "id": "ljl69kOZuFz3"
      },
      "id": "ljl69kOZuFz3"
    },
    {
      "cell_type": "markdown",
      "source": [
        "Write a function sum_of_digits(n: int) -> int that returns the sum of the digits of a number using recursion."
      ],
      "metadata": {
        "id": "IPfjX0M6usmz"
      },
      "id": "IPfjX0M6usmz"
    },
    {
      "cell_type": "code",
      "source": [
        "def sum_of_digits(n):\n",
        "  if n==0:\n",
        "    return 0\n",
        "  else:\n",
        "    return n%10+sum_of_digits(n//10)"
      ],
      "metadata": {
        "id": "XpGNOtKhuvBw"
      },
      "id": "XpGNOtKhuvBw",
      "execution_count": null,
      "outputs": []
    },
    {
      "cell_type": "code",
      "source": [
        "sum_of_digits(1234)"
      ],
      "metadata": {
        "colab": {
          "base_uri": "https://localhost:8080/"
        },
        "id": "Y9623i5gu-Bx",
        "outputId": "d8796b00-150b-4176-acdd-151b9fb4efa0"
      },
      "id": "Y9623i5gu-Bx",
      "execution_count": null,
      "outputs": [
        {
          "output_type": "execute_result",
          "data": {
            "text/plain": [
              "10"
            ]
          },
          "metadata": {},
          "execution_count": 6
        }
      ]
    },
    {
      "cell_type": "code",
      "source": [
        "sum_of_digits(53)"
      ],
      "metadata": {
        "colab": {
          "base_uri": "https://localhost:8080/"
        },
        "id": "dYheMrl0vA0C",
        "outputId": "11b450b5-ea73-4236-e8a0-fd8a9a0f5bd0"
      },
      "id": "dYheMrl0vA0C",
      "execution_count": null,
      "outputs": [
        {
          "output_type": "execute_result",
          "data": {
            "text/plain": [
              "8"
            ]
          },
          "metadata": {},
          "execution_count": 7
        }
      ]
    },
    {
      "cell_type": "markdown",
      "source": [
        "## 3.Find Maximum Element"
      ],
      "metadata": {
        "id": "vE392-9evDTF"
      },
      "id": "vE392-9evDTF"
    },
    {
      "cell_type": "markdown",
      "source": [
        "Write a function find_max(lst: list) -> int that returns the maximum element in a list without using the built-in max() function."
      ],
      "metadata": {
        "id": "9hK8FaDZvJqq"
      },
      "id": "9hK8FaDZvJqq"
    },
    {
      "cell_type": "code",
      "source": [
        "def find_max(l1):\n",
        "  max_num = l1[0]\n",
        "  for i in l1:\n",
        "    if i>max_num:\n",
        "      max_num= i\n",
        "  return max_num"
      ],
      "metadata": {
        "id": "NsYJtHAHvKnr"
      },
      "id": "NsYJtHAHvKnr",
      "execution_count": null,
      "outputs": []
    },
    {
      "cell_type": "code",
      "source": [
        "find_max([1, 3, 2, 5, 4])"
      ],
      "metadata": {
        "colab": {
          "base_uri": "https://localhost:8080/"
        },
        "id": "Lx1QnMiEwEjq",
        "outputId": "5a94794e-bfd6-42d0-f05a-c26b7c46707d"
      },
      "id": "Lx1QnMiEwEjq",
      "execution_count": null,
      "outputs": [
        {
          "output_type": "execute_result",
          "data": {
            "text/plain": [
              "5"
            ]
          },
          "metadata": {},
          "execution_count": 9
        }
      ]
    },
    {
      "cell_type": "markdown",
      "source": [
        "## 4.Find Minimum Element"
      ],
      "metadata": {
        "id": "yMvKZWuWwYwp"
      },
      "id": "yMvKZWuWwYwp"
    },
    {
      "cell_type": "markdown",
      "source": [
        "Write a function find_min(lst: list) -> int that returns the minimum element in a list without using the built-in min() function."
      ],
      "metadata": {
        "id": "dKGLzcPlwISj"
      },
      "id": "dKGLzcPlwISj"
    },
    {
      "cell_type": "code",
      "source": [
        "def find_min(l1):\n",
        "  min_num = l1[0]\n",
        "  for i in l1:\n",
        "    if i<min_num:\n",
        "      min_num= i\n",
        "  return min_num"
      ],
      "metadata": {
        "id": "cos0uMyBwNw0"
      },
      "id": "cos0uMyBwNw0",
      "execution_count": null,
      "outputs": []
    },
    {
      "cell_type": "code",
      "source": [
        "find_min([1, 3, 2, 0, 4])"
      ],
      "metadata": {
        "colab": {
          "base_uri": "https://localhost:8080/"
        },
        "id": "-3OalAKIwTDO",
        "outputId": "d6e29da0-94ba-4cfd-8c97-4633daa4398a"
      },
      "id": "-3OalAKIwTDO",
      "execution_count": null,
      "outputs": [
        {
          "output_type": "execute_result",
          "data": {
            "text/plain": [
              "0"
            ]
          },
          "metadata": {},
          "execution_count": 13
        }
      ]
    },
    {
      "cell_type": "markdown",
      "source": [
        "## 5.Find the First Non-Repeating Character"
      ],
      "metadata": {
        "id": "TZfKtPXUs64Z"
      },
      "id": "TZfKtPXUs64Z"
    },
    {
      "cell_type": "markdown",
      "source": [
        "Input: \"aabbccdeff\"\n",
        "Output: \"d\""
      ],
      "metadata": {
        "id": "AtM2TqLQtIgA"
      },
      "id": "AtM2TqLQtIgA"
    },
    {
      "cell_type": "code",
      "source": [
        "def first_non_repeating(s):\n",
        "  char_count ={}\n",
        "  for char in s:\n",
        "    char_count[char] = char_count.get(char,0)+1\n",
        "  for char in s:\n",
        "    if char_count[char]==1:\n",
        "      return char\n",
        "  return None"
      ],
      "metadata": {
        "id": "C4eZjDEgwUMz"
      },
      "id": "C4eZjDEgwUMz",
      "execution_count": null,
      "outputs": []
    },
    {
      "cell_type": "code",
      "source": [
        "s = \"aabbccdeff\"\n",
        "first_non_repeating(s)"
      ],
      "metadata": {
        "id": "ZO0JnApYxouf",
        "outputId": "2ebd1cce-d93a-4bf8-fa3b-a19100e6b9d9",
        "colab": {
          "base_uri": "https://localhost:8080/",
          "height": 36
        }
      },
      "id": "ZO0JnApYxouf",
      "execution_count": null,
      "outputs": [
        {
          "output_type": "execute_result",
          "data": {
            "text/plain": [
              "'d'"
            ],
            "application/vnd.google.colaboratory.intrinsic+json": {
              "type": "string"
            }
          },
          "metadata": {},
          "execution_count": 15
        }
      ]
    },
    {
      "cell_type": "markdown",
      "source": [
        "## 6.Implement Sorting Algo"
      ],
      "metadata": {
        "id": "RmmBftWtjh4z"
      },
      "id": "RmmBftWtjh4z"
    },
    {
      "cell_type": "markdown",
      "source": [
        "Write a function sort_list(lst: list) -> list that returns a sorted version of a list without using sorted() or list.sort(). (You might implement a simple algorithm like bubble sort or selection sort.)\n",
        "\n"
      ],
      "metadata": {
        "id": "YOEM5AhDjh1V"
      },
      "id": "YOEM5AhDjh1V"
    },
    {
      "cell_type": "code",
      "source": [
        "def sort_list(n1):\n",
        "  for i in range(len(n1)):\n",
        "    for j in range(i+1,len(n1)):\n",
        "      if n1[i]>n1[j]:\n",
        "        n1[i],n1[j] = n1[j],n1[i]\n",
        "  return n1"
      ],
      "metadata": {
        "id": "1Z7IgQk0jeY8"
      },
      "id": "1Z7IgQk0jeY8",
      "execution_count": 5,
      "outputs": []
    },
    {
      "cell_type": "code",
      "source": [
        "sort_list([3, 1, 4, 1, 5])"
      ],
      "metadata": {
        "id": "8OESN-vDjeVh",
        "outputId": "90794b02-1a17-49aa-e614-d8e7515ab93b",
        "colab": {
          "base_uri": "https://localhost:8080/"
        }
      },
      "id": "8OESN-vDjeVh",
      "execution_count": 6,
      "outputs": [
        {
          "output_type": "execute_result",
          "data": {
            "text/plain": [
              "[1, 1, 3, 4, 5]"
            ]
          },
          "metadata": {},
          "execution_count": 6
        }
      ]
    },
    {
      "cell_type": "markdown",
      "source": [
        "## 7.Check a list is sorted"
      ],
      "metadata": {
        "id": "0HxLpvCSkaC4"
      },
      "id": "0HxLpvCSkaC4"
    },
    {
      "cell_type": "markdown",
      "source": [
        "Write a function is_sorted(lst: list) -> bool that checks whether a list is sorted in ascending order."
      ],
      "metadata": {
        "id": "w44teeNtkZ8y"
      },
      "id": "w44teeNtkZ8y"
    },
    {
      "cell_type": "code",
      "source": [
        "def is_sorted(l1):\n",
        "  for i in range(len(l1)-1):\n",
        "    if l1[i]>l1[i+1]:\n",
        "      return False\n",
        "  return True"
      ],
      "metadata": {
        "id": "vmXIPjTOjeTZ"
      },
      "id": "vmXIPjTOjeTZ",
      "execution_count": 7,
      "outputs": []
    },
    {
      "cell_type": "code",
      "source": [
        "is_sorted([1, 2, 3, 4])"
      ],
      "metadata": {
        "id": "z8foR1XMjeRU",
        "outputId": "e7206678-7686-4265-db42-95b0edc19f27",
        "colab": {
          "base_uri": "https://localhost:8080/"
        }
      },
      "id": "z8foR1XMjeRU",
      "execution_count": 8,
      "outputs": [
        {
          "output_type": "execute_result",
          "data": {
            "text/plain": [
              "True"
            ]
          },
          "metadata": {},
          "execution_count": 8
        }
      ]
    },
    {
      "cell_type": "code",
      "source": [
        "is_sorted([1, 3, 2, 4])"
      ],
      "metadata": {
        "id": "LNPyW4DUjePp",
        "outputId": "0b4c0563-c670-43eb-a347-54e707d44a2f",
        "colab": {
          "base_uri": "https://localhost:8080/"
        }
      },
      "id": "LNPyW4DUjePp",
      "execution_count": 9,
      "outputs": [
        {
          "output_type": "execute_result",
          "data": {
            "text/plain": [
              "False"
            ]
          },
          "metadata": {},
          "execution_count": 9
        }
      ]
    },
    {
      "cell_type": "markdown",
      "source": [
        "## 8.Second Largest Number"
      ],
      "metadata": {
        "id": "9V6joLdWlZnK"
      },
      "id": "9V6joLdWlZnK"
    },
    {
      "cell_type": "markdown",
      "source": [
        "Write a function second_largest(lst: list) -> int that returns the second largest number in a list."
      ],
      "metadata": {
        "id": "ZVe9uWOmlc9w"
      },
      "id": "ZVe9uWOmlc9w"
    },
    {
      "cell_type": "code",
      "source": [
        "sorted([10, 20, 30, 40])[-2]"
      ],
      "metadata": {
        "id": "4_1WNND2jeNK",
        "outputId": "ec0abaa0-bc0e-4b01-f4d4-326c6439c941",
        "colab": {
          "base_uri": "https://localhost:8080/"
        }
      },
      "id": "4_1WNND2jeNK",
      "execution_count": 11,
      "outputs": [
        {
          "output_type": "execute_result",
          "data": {
            "text/plain": [
              "30"
            ]
          },
          "metadata": {},
          "execution_count": 11
        }
      ]
    },
    {
      "cell_type": "code",
      "source": [
        "def second_largest(lst):\n",
        "  return sorted(lst)[-2]"
      ],
      "metadata": {
        "id": "L4_IPq1VjeLR"
      },
      "id": "L4_IPq1VjeLR",
      "execution_count": 12,
      "outputs": []
    },
    {
      "cell_type": "code",
      "source": [
        "second_largest([10, 20, 30, 40])"
      ],
      "metadata": {
        "id": "0xH6e4KdjeJF",
        "outputId": "bd9f88d9-7d1e-48f5-906a-59f0528d338d",
        "colab": {
          "base_uri": "https://localhost:8080/"
        }
      },
      "id": "0xH6e4KdjeJF",
      "execution_count": 13,
      "outputs": [
        {
          "output_type": "execute_result",
          "data": {
            "text/plain": [
              "30"
            ]
          },
          "metadata": {},
          "execution_count": 13
        }
      ]
    },
    {
      "cell_type": "markdown",
      "source": [
        "## 9.Flatten a nested list"
      ],
      "metadata": {
        "id": "Aqybjo3dmrwe"
      },
      "id": "Aqybjo3dmrwe"
    },
    {
      "cell_type": "markdown",
      "source": [
        "Write a function flatten(nested_list: list) -> list that flattens a nested list (i.e., a list that may contain other lists) into a single list of elements."
      ],
      "metadata": {
        "id": "zHJnnc56mrer"
      },
      "id": "zHJnnc56mrer"
    },
    {
      "cell_type": "code",
      "source": [
        "def flat_list(l1):\n",
        "  flat_list = []\n",
        "  for i in l1:\n",
        "    if type(i)==list:\n",
        "      flat_list.extend(i)\n",
        "    else:\n",
        "      flat_list.append(i)\n",
        "  return flat_list"
      ],
      "metadata": {
        "id": "NZk1YjQttCUC"
      },
      "id": "NZk1YjQttCUC",
      "execution_count": 18,
      "outputs": []
    },
    {
      "cell_type": "code",
      "source": [
        "flat_list([1, [2, 3], [4, [5]]])"
      ],
      "metadata": {
        "id": "jx_byiUIjeHW",
        "outputId": "7d848674-e6b1-4c9c-b73a-a34575f3b06b",
        "colab": {
          "base_uri": "https://localhost:8080/"
        }
      },
      "id": "jx_byiUIjeHW",
      "execution_count": 19,
      "outputs": [
        {
          "output_type": "execute_result",
          "data": {
            "text/plain": [
              "[1, 2, 3, 4, [5]]"
            ]
          },
          "metadata": {},
          "execution_count": 19
        }
      ]
    },
    {
      "cell_type": "markdown",
      "source": [
        "## 10.Word Freq Counter"
      ],
      "metadata": {
        "id": "rM6IW5ZxtpQp"
      },
      "id": "rM6IW5ZxtpQp"
    },
    {
      "cell_type": "markdown",
      "source": [
        "Write a function word_frequency(text: str) -> dict that returns a dictionary with the frequency of each word in the input text."
      ],
      "metadata": {
        "id": "BreLiVF5tpNS"
      },
      "id": "BreLiVF5tpNS"
    },
    {
      "cell_type": "code",
      "source": [
        "def word_frequency(text):\n",
        "  words = text.split()\n",
        "  freq = {}\n",
        "  for word in words:\n",
        "    if word in freq:\n",
        "      freq[word]+=1\n",
        "    else:\n",
        "      freq[word]=1\n",
        "  return freq"
      ],
      "metadata": {
        "id": "lz5kWc7bluNL"
      },
      "id": "lz5kWc7bluNL",
      "execution_count": 20,
      "outputs": []
    },
    {
      "cell_type": "code",
      "source": [
        "word_frequency(\"hello world hello\")"
      ],
      "metadata": {
        "id": "x5C-_hiHluJu",
        "outputId": "91662103-793a-498d-91a3-937a76460a0a",
        "colab": {
          "base_uri": "https://localhost:8080/"
        }
      },
      "id": "x5C-_hiHluJu",
      "execution_count": 21,
      "outputs": [
        {
          "output_type": "execute_result",
          "data": {
            "text/plain": [
              "{'hello': 2, 'world': 1}"
            ]
          },
          "metadata": {},
          "execution_count": 21
        }
      ]
    },
    {
      "cell_type": "markdown",
      "source": [
        "## 11.Remove Vowels from string"
      ],
      "metadata": {
        "id": "qKHZg1DYucB3"
      },
      "id": "qKHZg1DYucB3"
    },
    {
      "cell_type": "markdown",
      "source": [],
      "metadata": {
        "id": "6ILEZSb_ub-d"
      },
      "id": "6ILEZSb_ub-d"
    },
    {
      "cell_type": "code",
      "source": [
        "def remove_vowel(text):\n",
        "  vowels = \"aeiouAEIOU\"\n",
        "  return \"\".join([char for char in text if char not in vowels])"
      ],
      "metadata": {
        "id": "Ht2uKwKWluH2"
      },
      "id": "Ht2uKwKWluH2",
      "execution_count": 22,
      "outputs": []
    },
    {
      "cell_type": "code",
      "source": [
        "remove_vowel(\"hello world\")"
      ],
      "metadata": {
        "id": "pMyO9U1tluFb",
        "outputId": "c5294551-4b8d-4290-9ef3-e91f42a8b010",
        "colab": {
          "base_uri": "https://localhost:8080/",
          "height": 36
        }
      },
      "id": "pMyO9U1tluFb",
      "execution_count": 25,
      "outputs": [
        {
          "output_type": "execute_result",
          "data": {
            "text/plain": [
              "'hll wrld'"
            ],
            "application/vnd.google.colaboratory.intrinsic+json": {
              "type": "string"
            }
          },
          "metadata": {},
          "execution_count": 25
        }
      ]
    },
    {
      "cell_type": "markdown",
      "source": [
        "## 12.Set Intersection"
      ],
      "metadata": {
        "id": "NWaoSbv4GWij"
      },
      "id": "NWaoSbv4GWij"
    },
    {
      "cell_type": "markdown",
      "source": [
        "Write a function set_intersection(set1: set, set2: set) -> set that returns the intersection of two sets."
      ],
      "metadata": {
        "id": "k8AUBMVaGWTf"
      },
      "id": "k8AUBMVaGWTf"
    },
    {
      "cell_type": "code",
      "source": [
        "def set_intersection(set1,set2):\n",
        "  return set1.intersection(set2)"
      ],
      "metadata": {
        "id": "ugw4aYm1luBF"
      },
      "id": "ugw4aYm1luBF",
      "execution_count": 26,
      "outputs": []
    },
    {
      "cell_type": "code",
      "source": [
        "set_intersection({1, 2, 3}, {2, 3, 4})"
      ],
      "metadata": {
        "id": "A_t8QfD6lt-_",
        "outputId": "8b7c026a-ec21-4e86-8a6e-4e0fd70a52a8",
        "colab": {
          "base_uri": "https://localhost:8080/"
        }
      },
      "id": "A_t8QfD6lt-_",
      "execution_count": 27,
      "outputs": [
        {
          "output_type": "execute_result",
          "data": {
            "text/plain": [
              "{2, 3}"
            ]
          },
          "metadata": {},
          "execution_count": 27
        }
      ]
    },
    {
      "cell_type": "markdown",
      "source": [
        "## 13.Generate Permutations"
      ],
      "metadata": {
        "id": "QOLOWp77KTBP"
      },
      "id": "QOLOWp77KTBP"
    },
    {
      "cell_type": "markdown",
      "source": [
        "Write a function permutations(lst: list) -> list that returns a list of all permutations of the input list.\n",
        "\n",
        "\n"
      ],
      "metadata": {
        "id": "3ahR7KfeKS9w"
      },
      "id": "3ahR7KfeKS9w"
    },
    {
      "cell_type": "code",
      "source": [
        "def gen_permute(lst):\n",
        "  if len(lst) <= 1:\n",
        "        return [lst]\n",
        "\n",
        "  result = []\n",
        "  for i in range(len(lst)):\n",
        "      # Choose the current element\n",
        "      current = lst[i]\n",
        "\n",
        "      # Create a list of remaining elements\n",
        "      remaining = lst[:i] + lst[i+1:]\n",
        "\n",
        "      # Generate permutations of the remaining elements\n",
        "      for p in gen_permute(remaining):\n",
        "          # Combine the current element with each permutation\n",
        "          result.append([current] + p)\n",
        "\n",
        "  return result\n"
      ],
      "metadata": {
        "id": "t8uJSpEIlt8z"
      },
      "id": "t8uJSpEIlt8z",
      "execution_count": 34,
      "outputs": []
    },
    {
      "cell_type": "code",
      "source": [
        "gen_permute([1,2])"
      ],
      "metadata": {
        "id": "q5Ph4CHBlt63",
        "outputId": "3c5ed819-ab7a-41b0-e150-22f3d6c41308",
        "colab": {
          "base_uri": "https://localhost:8080/"
        }
      },
      "id": "q5Ph4CHBlt63",
      "execution_count": 35,
      "outputs": [
        {
          "output_type": "execute_result",
          "data": {
            "text/plain": [
              "[[1, 2], [2, 1]]"
            ]
          },
          "metadata": {},
          "execution_count": 35
        }
      ]
    },
    {
      "cell_type": "markdown",
      "source": [
        "## Generate Combinations"
      ],
      "metadata": {
        "id": "66alwaHeIaZS"
      },
      "id": "66alwaHeIaZS"
    },
    {
      "cell_type": "markdown",
      "source": [
        "Write a function combinations(lst: list, k: int) -> list that returns all combinations of k elements from the input list."
      ],
      "metadata": {
        "id": "HpEjzYhyNX-e"
      },
      "id": "HpEjzYhyNX-e"
    },
    {
      "cell_type": "code",
      "source": [
        "def combi(lst,k):\n",
        "  if k==0:\n",
        "    return [[]]\n",
        "  result = []\n",
        "  for i in range(len(lst)):\n",
        "    current = lst[i]\n",
        "    remaining = lst[i+1:]\n",
        "    for p in combi(remaining,k-1):\n",
        "      result.append([current]+p)\n",
        "  return result"
      ],
      "metadata": {
        "id": "P76Kd3tfNYWp"
      },
      "id": "P76Kd3tfNYWp",
      "execution_count": 38,
      "outputs": []
    },
    {
      "cell_type": "code",
      "source": [
        "combi([1, 2, 3], 2)"
      ],
      "metadata": {
        "id": "QEVJMXfnNe3B",
        "outputId": "d0045a6f-9b52-4462-8077-dd6d2c0a1e63",
        "colab": {
          "base_uri": "https://localhost:8080/"
        }
      },
      "id": "QEVJMXfnNe3B",
      "execution_count": 39,
      "outputs": [
        {
          "output_type": "execute_result",
          "data": {
            "text/plain": [
              "[[1, 2], [1, 3], [2, 3]]"
            ]
          },
          "metadata": {},
          "execution_count": 39
        }
      ]
    },
    {
      "cell_type": "markdown",
      "source": [
        "## Longest common Prefix"
      ],
      "metadata": {
        "id": "q5t895f2yl5P"
      },
      "id": "q5t895f2yl5P"
    },
    {
      "cell_type": "markdown",
      "source": [
        "Input: [\"interview\", \"intelligence\", \"integrate\"]\n",
        "Output: \"int\""
      ],
      "metadata": {
        "id": "k3N7Qle8yka9"
      },
      "id": "k3N7Qle8yka9"
    },
    {
      "cell_type": "code",
      "source": [
        "for char in s:\n",
        "  for ch in char:\n"
      ],
      "metadata": {
        "id": "QFFa-8c7szr1",
        "outputId": "464a2dd0-f515-476f-b0c9-918904ebcbfa",
        "colab": {
          "base_uri": "https://localhost:8080/",
          "height": 297
        }
      },
      "id": "QFFa-8c7szr1",
      "execution_count": null,
      "outputs": [
        {
          "output_type": "error",
          "ename": "AttributeError",
          "evalue": "module 'numpy' has no attribute 'count'",
          "traceback": [
            "\u001b[0;31m---------------------------------------------------------------------------\u001b[0m",
            "\u001b[0;31mAttributeError\u001b[0m                            Traceback (most recent call last)",
            "\u001b[0;32m<ipython-input-12-c4d1d65e81c7>\u001b[0m in \u001b[0;36m<cell line: 0>\u001b[0;34m()\u001b[0m\n\u001b[1;32m      1\u001b[0m \u001b[0ms\u001b[0m \u001b[0;34m=\u001b[0m \u001b[0;34m\"aabbccdeff\"\u001b[0m\u001b[0;34m\u001b[0m\u001b[0;34m\u001b[0m\u001b[0m\n\u001b[1;32m      2\u001b[0m \u001b[0;32mfor\u001b[0m \u001b[0mi\u001b[0m \u001b[0;32min\u001b[0m \u001b[0ms\u001b[0m\u001b[0;34m:\u001b[0m\u001b[0;34m\u001b[0m\u001b[0;34m\u001b[0m\u001b[0m\n\u001b[0;32m----> 3\u001b[0;31m   \u001b[0mprint\u001b[0m\u001b[0;34m(\u001b[0m\u001b[0mnp\u001b[0m\u001b[0;34m.\u001b[0m\u001b[0mcount\u001b[0m\u001b[0;34m(\u001b[0m\u001b[0mi\u001b[0m\u001b[0;34m)\u001b[0m\u001b[0;34m)\u001b[0m\u001b[0;34m\u001b[0m\u001b[0;34m\u001b[0m\u001b[0m\n\u001b[0m",
            "\u001b[0;32m/usr/local/lib/python3.11/dist-packages/numpy/__init__.py\u001b[0m in \u001b[0;36m__getattr__\u001b[0;34m(attr)\u001b[0m\n\u001b[1;32m    331\u001b[0m             \u001b[0;32mraise\u001b[0m \u001b[0mRuntimeError\u001b[0m\u001b[0;34m(\u001b[0m\u001b[0;34m\"Tester was removed in NumPy 1.25.\"\u001b[0m\u001b[0;34m)\u001b[0m\u001b[0;34m\u001b[0m\u001b[0;34m\u001b[0m\u001b[0m\n\u001b[1;32m    332\u001b[0m \u001b[0;34m\u001b[0m\u001b[0m\n\u001b[0;32m--> 333\u001b[0;31m         raise AttributeError(\"module {!r} has no attribute \"\n\u001b[0m\u001b[1;32m    334\u001b[0m                              \"{!r}\".format(__name__, attr))\n\u001b[1;32m    335\u001b[0m \u001b[0;34m\u001b[0m\u001b[0m\n",
            "\u001b[0;31mAttributeError\u001b[0m: module 'numpy' has no attribute 'count'"
          ]
        }
      ]
    }
  ],
  "metadata": {
    "kernelspec": {
      "display_name": "Python 3",
      "language": "python",
      "name": "python3"
    },
    "language_info": {
      "codemirror_mode": {
        "name": "ipython",
        "version": 3
      },
      "file_extension": ".py",
      "mimetype": "text/x-python",
      "name": "python",
      "nbconvert_exporter": "python",
      "pygments_lexer": "ipython3",
      "version": "3.8.8"
    },
    "colab": {
      "provenance": [],
      "toc_visible": true,
      "include_colab_link": true
    }
  },
  "nbformat": 4,
  "nbformat_minor": 5
}