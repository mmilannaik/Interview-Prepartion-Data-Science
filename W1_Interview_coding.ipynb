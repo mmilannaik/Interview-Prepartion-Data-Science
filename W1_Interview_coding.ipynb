{
  "cells": [
    {
      "cell_type": "markdown",
      "metadata": {
        "id": "view-in-github",
        "colab_type": "text"
      },
      "source": [
        "<a href=\"https://colab.research.google.com/github/mmilannaik/Interview-Prepartion-Data-Science/blob/master/W1_Interview_coding.ipynb\" target=\"_parent\"><img src=\"https://colab.research.google.com/assets/colab-badge.svg\" alt=\"Open In Colab\"/></a>"
      ]
    },
    {
      "cell_type": "markdown",
      "source": [
        "# Week 1"
      ],
      "metadata": {
        "id": "Lxga7FUlIby5"
      },
      "id": "Lxga7FUlIby5"
    },
    {
      "cell_type": "markdown",
      "source": [
        "## String Reverse"
      ],
      "metadata": {
        "id": "p_mKtaiTIjoX"
      },
      "id": "p_mKtaiTIjoX"
    },
    {
      "cell_type": "code",
      "source": [
        "Input: \"EYInterview\"\n",
        "Output: \"weivretnIYE\""
      ],
      "metadata": {
        "id": "M7HO9lNCIP0p"
      },
      "id": "M7HO9lNCIP0p",
      "execution_count": null,
      "outputs": []
    },
    {
      "cell_type": "code",
      "source": [
        "def reverse_string(s):\n",
        "  char_list = list(s)\n",
        "  left,right = 0,len(char_list)-1\n",
        "  while left<right:\n",
        "    char_list[left],char_list[right]= char_list[right],char_list[left]\n",
        "    left+=1\n",
        "    right-=1\n",
        "  return \"\".join(char_list)\n"
      ],
      "metadata": {
        "id": "3K7DINTMVkP1"
      },
      "id": "3K7DINTMVkP1",
      "execution_count": null,
      "outputs": []
    },
    {
      "cell_type": "code",
      "source": [
        "a = \"EYInterview\"\n",
        "reverse_string(a)"
      ],
      "metadata": {
        "id": "oh-K661sJNXU",
        "outputId": "7bca945a-b322-4eb2-cefb-da7f134a593a",
        "colab": {
          "base_uri": "https://localhost:8080/",
          "height": 36
        }
      },
      "id": "oh-K661sJNXU",
      "execution_count": null,
      "outputs": [
        {
          "output_type": "execute_result",
          "data": {
            "text/plain": [
              "'weivretnIYE'"
            ],
            "application/vnd.google.colaboratory.intrinsic+json": {
              "type": "string"
            }
          },
          "metadata": {},
          "execution_count": 12
        }
      ]
    },
    {
      "cell_type": "markdown",
      "source": [
        "## Check for Palindrome\n"
      ],
      "metadata": {
        "id": "BqTh28uFomA2"
      },
      "id": "BqTh28uFomA2"
    },
    {
      "cell_type": "markdown",
      "source": [
        "Input: \"racecar\"\n",
        "Output: True"
      ],
      "metadata": {
        "id": "NCJ19SYYpIpd"
      },
      "id": "NCJ19SYYpIpd"
    },
    {
      "cell_type": "code",
      "source": [
        "a = \"racecar\""
      ],
      "metadata": {
        "id": "xIA6Xqlqopn-"
      },
      "id": "xIA6Xqlqopn-",
      "execution_count": 2,
      "outputs": []
    },
    {
      "cell_type": "code",
      "source": [
        "if a ==a[::-1]:\n",
        " print(True)"
      ],
      "metadata": {
        "id": "jeSeutYCopkn",
        "outputId": "1e49e112-9c2c-404a-aac8-a35a1de470df",
        "colab": {
          "base_uri": "https://localhost:8080/"
        }
      },
      "id": "jeSeutYCopkn",
      "execution_count": 5,
      "outputs": [
        {
          "output_type": "stream",
          "name": "stdout",
          "text": [
            "True\n"
          ]
        }
      ]
    },
    {
      "cell_type": "code",
      "source": [
        "def palindrome_st(s):\n",
        "  s = ''.join(s.split()).lower()\n",
        "  left, right = 0,len(s)-1\n",
        "  while left < right:\n",
        "    if s[left]!=s[right]:\n",
        "      return False\n",
        "    left +=1\n",
        "    right -=1\n",
        "  return True\n",
        "\n"
      ],
      "metadata": {
        "id": "NwD6HbatopiR"
      },
      "id": "NwD6HbatopiR",
      "execution_count": 6,
      "outputs": []
    },
    {
      "cell_type": "code",
      "source": [
        "palindrome_st(a)"
      ],
      "metadata": {
        "id": "ZrRFaW6UswLg",
        "outputId": "1d0bac17-fd3c-4f5b-c575-e51b7dba0fdd",
        "colab": {
          "base_uri": "https://localhost:8080/"
        }
      },
      "id": "ZrRFaW6UswLg",
      "execution_count": 7,
      "outputs": [
        {
          "output_type": "execute_result",
          "data": {
            "text/plain": [
              "True"
            ]
          },
          "metadata": {},
          "execution_count": 7
        }
      ]
    },
    {
      "cell_type": "markdown",
      "source": [
        "## Find the First Non-Repeating Character"
      ],
      "metadata": {
        "id": "TZfKtPXUs64Z"
      },
      "id": "TZfKtPXUs64Z"
    },
    {
      "cell_type": "markdown",
      "source": [
        "Input: \"aabbccdeff\"\n",
        "Output: \"d\""
      ],
      "metadata": {
        "id": "AtM2TqLQtIgA"
      },
      "id": "AtM2TqLQtIgA"
    },
    {
      "cell_type": "code",
      "source": [
        "def first_non_repeating(s):\n",
        "  char_count ={}\n",
        "  for char in s:\n",
        "    char_count[char] = char_count.get(char,0)+1\n",
        "  for char in s:\n",
        "    if char_count[char]==1:\n",
        "      return char\n",
        "  return None"
      ],
      "metadata": {
        "id": "C4eZjDEgwUMz"
      },
      "id": "C4eZjDEgwUMz",
      "execution_count": 14,
      "outputs": []
    },
    {
      "cell_type": "code",
      "source": [
        "s = \"aabbccdeff\"\n",
        "first_non_repeating(s)"
      ],
      "metadata": {
        "id": "ZO0JnApYxouf",
        "outputId": "2ebd1cce-d93a-4bf8-fa3b-a19100e6b9d9",
        "colab": {
          "base_uri": "https://localhost:8080/",
          "height": 36
        }
      },
      "id": "ZO0JnApYxouf",
      "execution_count": 15,
      "outputs": [
        {
          "output_type": "execute_result",
          "data": {
            "text/plain": [
              "'d'"
            ],
            "application/vnd.google.colaboratory.intrinsic+json": {
              "type": "string"
            }
          },
          "metadata": {},
          "execution_count": 15
        }
      ]
    },
    {
      "cell_type": "markdown",
      "source": [
        "## Longest common Prefix"
      ],
      "metadata": {
        "id": "q5t895f2yl5P"
      },
      "id": "q5t895f2yl5P"
    },
    {
      "cell_type": "markdown",
      "source": [
        "Input: [\"interview\", \"intelligence\", \"integrate\"]\n",
        "Output: \"int\""
      ],
      "metadata": {
        "id": "k3N7Qle8yka9"
      },
      "id": "k3N7Qle8yka9"
    },
    {
      "cell_type": "code",
      "source": [
        "for char in s:\n",
        "  for ch in char:\n",
        ""
      ],
      "metadata": {
        "id": "QFFa-8c7szr1",
        "outputId": "464a2dd0-f515-476f-b0c9-918904ebcbfa",
        "colab": {
          "base_uri": "https://localhost:8080/",
          "height": 297
        }
      },
      "id": "QFFa-8c7szr1",
      "execution_count": 12,
      "outputs": [
        {
          "output_type": "error",
          "ename": "AttributeError",
          "evalue": "module 'numpy' has no attribute 'count'",
          "traceback": [
            "\u001b[0;31m---------------------------------------------------------------------------\u001b[0m",
            "\u001b[0;31mAttributeError\u001b[0m                            Traceback (most recent call last)",
            "\u001b[0;32m<ipython-input-12-c4d1d65e81c7>\u001b[0m in \u001b[0;36m<cell line: 0>\u001b[0;34m()\u001b[0m\n\u001b[1;32m      1\u001b[0m \u001b[0ms\u001b[0m \u001b[0;34m=\u001b[0m \u001b[0;34m\"aabbccdeff\"\u001b[0m\u001b[0;34m\u001b[0m\u001b[0;34m\u001b[0m\u001b[0m\n\u001b[1;32m      2\u001b[0m \u001b[0;32mfor\u001b[0m \u001b[0mi\u001b[0m \u001b[0;32min\u001b[0m \u001b[0ms\u001b[0m\u001b[0;34m:\u001b[0m\u001b[0;34m\u001b[0m\u001b[0;34m\u001b[0m\u001b[0m\n\u001b[0;32m----> 3\u001b[0;31m   \u001b[0mprint\u001b[0m\u001b[0;34m(\u001b[0m\u001b[0mnp\u001b[0m\u001b[0;34m.\u001b[0m\u001b[0mcount\u001b[0m\u001b[0;34m(\u001b[0m\u001b[0mi\u001b[0m\u001b[0;34m)\u001b[0m\u001b[0;34m)\u001b[0m\u001b[0;34m\u001b[0m\u001b[0;34m\u001b[0m\u001b[0m\n\u001b[0m",
            "\u001b[0;32m/usr/local/lib/python3.11/dist-packages/numpy/__init__.py\u001b[0m in \u001b[0;36m__getattr__\u001b[0;34m(attr)\u001b[0m\n\u001b[1;32m    331\u001b[0m             \u001b[0;32mraise\u001b[0m \u001b[0mRuntimeError\u001b[0m\u001b[0;34m(\u001b[0m\u001b[0;34m\"Tester was removed in NumPy 1.25.\"\u001b[0m\u001b[0;34m)\u001b[0m\u001b[0;34m\u001b[0m\u001b[0;34m\u001b[0m\u001b[0m\n\u001b[1;32m    332\u001b[0m \u001b[0;34m\u001b[0m\u001b[0m\n\u001b[0;32m--> 333\u001b[0;31m         raise AttributeError(\"module {!r} has no attribute \"\n\u001b[0m\u001b[1;32m    334\u001b[0m                              \"{!r}\".format(__name__, attr))\n\u001b[1;32m    335\u001b[0m \u001b[0;34m\u001b[0m\u001b[0m\n",
            "\u001b[0;31mAttributeError\u001b[0m: module 'numpy' has no attribute 'count'"
          ]
        }
      ]
    },
    {
      "cell_type": "code",
      "source": [],
      "metadata": {
        "id": "5Pou7c9EtHui"
      },
      "id": "5Pou7c9EtHui",
      "execution_count": null,
      "outputs": []
    },
    {
      "cell_type": "code",
      "source": [],
      "metadata": {
        "id": "4Q_tdRH1tHrH"
      },
      "id": "4Q_tdRH1tHrH",
      "execution_count": null,
      "outputs": []
    },
    {
      "cell_type": "markdown",
      "id": "2d9e8884",
      "metadata": {
        "id": "2d9e8884"
      },
      "source": [
        "## What is an Iteration\n",
        "\n",
        "Iteration is a general term for taking each item of something, one after another. Any time you use a loop, explicit or implicit, to go over a group of items, that is iteration."
      ]
    },
    {
      "cell_type": "code",
      "source": [],
      "metadata": {
        "id": "2h68UZw-IQHs"
      },
      "id": "2h68UZw-IQHs",
      "execution_count": null,
      "outputs": []
    },
    {
      "cell_type": "code",
      "execution_count": null,
      "id": "26fadf7e",
      "metadata": {
        "id": "26fadf7e",
        "outputId": "53826d87-e147-4e74-c6fc-75d2ca0a1626"
      },
      "outputs": [
        {
          "name": "stdout",
          "output_type": "stream",
          "text": [
            "1\n",
            "2\n",
            "3\n"
          ]
        }
      ],
      "source": [
        "# Example\n",
        "num = [1,2,3]\n",
        "\n",
        "for i in num:\n",
        "    print(i)"
      ]
    },
    {
      "cell_type": "markdown",
      "id": "c7ea3a1a",
      "metadata": {
        "id": "c7ea3a1a"
      },
      "source": [
        "## What is Iterator\n",
        "\n",
        "An Iterator is an object that allows the programmer to traverse through a sequence of data without having to store the entire data in the memory"
      ]
    },
    {
      "cell_type": "code",
      "execution_count": null,
      "id": "ff765a6c",
      "metadata": {
        "id": "ff765a6c",
        "outputId": "2758d658-7021-448d-a3b9-976ec81fa912"
      },
      "outputs": [
        {
          "name": "stdout",
          "output_type": "stream",
          "text": [
            "1369.0\n",
            "0.75\n"
          ]
        }
      ],
      "source": [
        "# Example\n",
        "L = [x for x in range(1,10000)]\n",
        "\n",
        "#for i in L:\n",
        "    #print(i*2)\n",
        "\n",
        "import sys\n",
        "\n",
        "print(sys.getsizeof(L)/64)\n",
        "\n",
        "x = range(1,10000000000)\n",
        "\n",
        "#for i in x:\n",
        "    #print(i*2)\n",
        "\n",
        "print(sys.getsizeof(x)/64)\n",
        "\n"
      ]
    },
    {
      "cell_type": "markdown",
      "id": "99fff65f",
      "metadata": {
        "id": "99fff65f"
      },
      "source": [
        "## What is Iterable\n",
        "Iterable is an object, which one can iterate over\n",
        "\n",
        " It generates an Iterator when passed to iter() method."
      ]
    },
    {
      "cell_type": "code",
      "execution_count": null,
      "id": "77650fa6",
      "metadata": {
        "id": "77650fa6",
        "outputId": "311f8bab-bb35-4ebc-c878-82ae689d9d2c"
      },
      "outputs": [
        {
          "data": {
            "text/plain": [
              "list_iterator"
            ]
          },
          "execution_count": 32,
          "metadata": {},
          "output_type": "execute_result"
        }
      ],
      "source": [
        "# Example\n",
        "\n",
        "L = [1,2,3]\n",
        "type(L)\n",
        "\n",
        "\n",
        "# L is an iterable\n",
        "type(iter(L))\n",
        "\n",
        "# iter(L) --> iterator"
      ]
    },
    {
      "cell_type": "markdown",
      "id": "f9482d80",
      "metadata": {
        "id": "f9482d80"
      },
      "source": [
        "## Point to remember\n",
        "\n",
        "- Every **Iterator** is also and **Iterable**\n",
        "- Not all **Iterables** are **Iterators**"
      ]
    },
    {
      "cell_type": "markdown",
      "id": "9c4c52a7",
      "metadata": {
        "id": "9c4c52a7"
      },
      "source": [
        "## Trick\n",
        "- Every Iterable has an **iter function**\n",
        "- Every Iterator has both **iter function** as well as a **next function**"
      ]
    },
    {
      "cell_type": "code",
      "execution_count": null,
      "id": "802be65a",
      "metadata": {
        "id": "802be65a",
        "outputId": "2711b24f-0b47-4bb0-bf53-dc5b12d83468"
      },
      "outputs": [
        {
          "data": {
            "text/plain": [
              "['__abs__',\n",
              " '__add__',\n",
              " '__and__',\n",
              " '__bool__',\n",
              " '__ceil__',\n",
              " '__class__',\n",
              " '__delattr__',\n",
              " '__dir__',\n",
              " '__divmod__',\n",
              " '__doc__',\n",
              " '__eq__',\n",
              " '__float__',\n",
              " '__floor__',\n",
              " '__floordiv__',\n",
              " '__format__',\n",
              " '__ge__',\n",
              " '__getattribute__',\n",
              " '__getnewargs__',\n",
              " '__gt__',\n",
              " '__hash__',\n",
              " '__index__',\n",
              " '__init__',\n",
              " '__init_subclass__',\n",
              " '__int__',\n",
              " '__invert__',\n",
              " '__le__',\n",
              " '__lshift__',\n",
              " '__lt__',\n",
              " '__mod__',\n",
              " '__mul__',\n",
              " '__ne__',\n",
              " '__neg__',\n",
              " '__new__',\n",
              " '__or__',\n",
              " '__pos__',\n",
              " '__pow__',\n",
              " '__radd__',\n",
              " '__rand__',\n",
              " '__rdivmod__',\n",
              " '__reduce__',\n",
              " '__reduce_ex__',\n",
              " '__repr__',\n",
              " '__rfloordiv__',\n",
              " '__rlshift__',\n",
              " '__rmod__',\n",
              " '__rmul__',\n",
              " '__ror__',\n",
              " '__round__',\n",
              " '__rpow__',\n",
              " '__rrshift__',\n",
              " '__rshift__',\n",
              " '__rsub__',\n",
              " '__rtruediv__',\n",
              " '__rxor__',\n",
              " '__setattr__',\n",
              " '__sizeof__',\n",
              " '__str__',\n",
              " '__sub__',\n",
              " '__subclasshook__',\n",
              " '__truediv__',\n",
              " '__trunc__',\n",
              " '__xor__',\n",
              " 'as_integer_ratio',\n",
              " 'bit_length',\n",
              " 'conjugate',\n",
              " 'denominator',\n",
              " 'from_bytes',\n",
              " 'imag',\n",
              " 'numerator',\n",
              " 'real',\n",
              " 'to_bytes']"
            ]
          },
          "execution_count": 35,
          "metadata": {},
          "output_type": "execute_result"
        }
      ],
      "source": [
        "a = 2\n",
        "a\n",
        "\n",
        "#for i in a:\n",
        "    #print(i)\n",
        "\n",
        "dir(a)"
      ]
    },
    {
      "cell_type": "code",
      "execution_count": null,
      "id": "2daf8b0a",
      "metadata": {
        "id": "2daf8b0a",
        "outputId": "7aac0cf5-c5a7-4056-acbc-966f01ad3b1c"
      },
      "outputs": [
        {
          "data": {
            "text/plain": [
              "['__class__',\n",
              " '__contains__',\n",
              " '__delattr__',\n",
              " '__delitem__',\n",
              " '__dir__',\n",
              " '__doc__',\n",
              " '__eq__',\n",
              " '__format__',\n",
              " '__ge__',\n",
              " '__getattribute__',\n",
              " '__getitem__',\n",
              " '__gt__',\n",
              " '__hash__',\n",
              " '__init__',\n",
              " '__init_subclass__',\n",
              " '__iter__',\n",
              " '__le__',\n",
              " '__len__',\n",
              " '__lt__',\n",
              " '__ne__',\n",
              " '__new__',\n",
              " '__reduce__',\n",
              " '__reduce_ex__',\n",
              " '__repr__',\n",
              " '__reversed__',\n",
              " '__setattr__',\n",
              " '__setitem__',\n",
              " '__sizeof__',\n",
              " '__str__',\n",
              " '__subclasshook__',\n",
              " 'clear',\n",
              " 'copy',\n",
              " 'fromkeys',\n",
              " 'get',\n",
              " 'items',\n",
              " 'keys',\n",
              " 'pop',\n",
              " 'popitem',\n",
              " 'setdefault',\n",
              " 'update',\n",
              " 'values']"
            ]
          },
          "execution_count": 38,
          "metadata": {},
          "output_type": "execute_result"
        }
      ],
      "source": [
        "T = {1:2,3:4}\n",
        "dir(T)"
      ]
    },
    {
      "cell_type": "code",
      "execution_count": null,
      "id": "7468f8bf",
      "metadata": {
        "id": "7468f8bf",
        "outputId": "1756fc56-035d-418d-8b89-e1cd97e9b0c9"
      },
      "outputs": [
        {
          "data": {
            "text/plain": [
              "['__class__',\n",
              " '__delattr__',\n",
              " '__dir__',\n",
              " '__doc__',\n",
              " '__eq__',\n",
              " '__format__',\n",
              " '__ge__',\n",
              " '__getattribute__',\n",
              " '__gt__',\n",
              " '__hash__',\n",
              " '__init__',\n",
              " '__init_subclass__',\n",
              " '__iter__',\n",
              " '__le__',\n",
              " '__length_hint__',\n",
              " '__lt__',\n",
              " '__ne__',\n",
              " '__new__',\n",
              " '__next__',\n",
              " '__reduce__',\n",
              " '__reduce_ex__',\n",
              " '__repr__',\n",
              " '__setattr__',\n",
              " '__setstate__',\n",
              " '__sizeof__',\n",
              " '__str__',\n",
              " '__subclasshook__']"
            ]
          },
          "execution_count": 41,
          "metadata": {},
          "output_type": "execute_result"
        }
      ],
      "source": [
        "L = [1,2,3]\n",
        "\n",
        "# L is not an iterator\n",
        "iter_L = iter(L)\n",
        "\n",
        "# iter_L is an iterator"
      ]
    },
    {
      "cell_type": "markdown",
      "id": "5f02c4b7",
      "metadata": {
        "id": "5f02c4b7"
      },
      "source": [
        "## Understanding how for loop works"
      ]
    },
    {
      "cell_type": "code",
      "execution_count": null,
      "id": "8b518b08",
      "metadata": {
        "id": "8b518b08",
        "outputId": "0af5bd2a-a4d9-4259-98cb-26a0cb66ce08"
      },
      "outputs": [
        {
          "name": "stdout",
          "output_type": "stream",
          "text": [
            "1\n",
            "2\n",
            "3\n"
          ]
        }
      ],
      "source": [
        "num = [1,2,3]\n",
        "\n",
        "for i in num:\n",
        "    print(i)"
      ]
    },
    {
      "cell_type": "code",
      "execution_count": null,
      "id": "bfb4f98d",
      "metadata": {
        "id": "bfb4f98d",
        "outputId": "5260bbbf-f72b-4ec2-9b27-4c5411e95a36"
      },
      "outputs": [
        {
          "ename": "StopIteration",
          "evalue": "",
          "output_type": "error",
          "traceback": [
            "\u001b[1;31m---------------------------------------------------------------------------\u001b[0m",
            "\u001b[1;31mStopIteration\u001b[0m                             Traceback (most recent call last)",
            "\u001b[1;32m<ipython-input-47-0793ebf651f8>\u001b[0m in \u001b[0;36m<module>\u001b[1;34m\u001b[0m\n\u001b[0;32m      8\u001b[0m \u001b[0mnext\u001b[0m\u001b[1;33m(\u001b[0m\u001b[0miter_num\u001b[0m\u001b[1;33m)\u001b[0m\u001b[1;33m\u001b[0m\u001b[1;33m\u001b[0m\u001b[0m\n\u001b[0;32m      9\u001b[0m \u001b[0mnext\u001b[0m\u001b[1;33m(\u001b[0m\u001b[0miter_num\u001b[0m\u001b[1;33m)\u001b[0m\u001b[1;33m\u001b[0m\u001b[1;33m\u001b[0m\u001b[0m\n\u001b[1;32m---> 10\u001b[1;33m \u001b[0mnext\u001b[0m\u001b[1;33m(\u001b[0m\u001b[0miter_num\u001b[0m\u001b[1;33m)\u001b[0m\u001b[1;33m\u001b[0m\u001b[1;33m\u001b[0m\u001b[0m\n\u001b[0m",
            "\u001b[1;31mStopIteration\u001b[0m: "
          ]
        }
      ],
      "source": [
        "num = [1,2,3]\n",
        "\n",
        "# fetch the iterator\n",
        "iter_num = iter(num)\n",
        "\n",
        "# step2 --> next\n",
        "next(iter_num)\n",
        "next(iter_num)\n",
        "next(iter_num)\n",
        "next(iter_num)"
      ]
    },
    {
      "cell_type": "markdown",
      "id": "e35d6e87",
      "metadata": {
        "id": "e35d6e87"
      },
      "source": [
        "## Making our own for loop"
      ]
    },
    {
      "cell_type": "code",
      "execution_count": null,
      "id": "7822da8e",
      "metadata": {
        "id": "7822da8e"
      },
      "outputs": [],
      "source": [
        "def mera_khudka_for_loop(iterable):\n",
        "\n",
        "    iterator = iter(iterable)\n",
        "\n",
        "    while True:\n",
        "\n",
        "        try:\n",
        "            print(next(iterator))\n",
        "        except StopIteration:\n",
        "            break"
      ]
    },
    {
      "cell_type": "code",
      "execution_count": null,
      "id": "68a428be",
      "metadata": {
        "id": "68a428be",
        "outputId": "f9570cdd-7ce5-4c2f-9023-67db2314229d"
      },
      "outputs": [
        {
          "name": "stdout",
          "output_type": "stream",
          "text": [
            "0\n",
            "1\n"
          ]
        }
      ],
      "source": [
        "a = [1,2,3]\n",
        "b = range(1,11)\n",
        "c = (1,2,3)\n",
        "d = {1,2,3}\n",
        "e = {0:1,1:1}\n",
        "\n",
        "mera_khudka_for_loop(e)"
      ]
    },
    {
      "cell_type": "markdown",
      "id": "81a3e616",
      "metadata": {
        "id": "81a3e616"
      },
      "source": [
        "## A confusing point"
      ]
    },
    {
      "cell_type": "code",
      "execution_count": null,
      "id": "269d3c83",
      "metadata": {
        "id": "269d3c83",
        "outputId": "114ba5ba-43b9-492c-81ce-db61cc422363"
      },
      "outputs": [
        {
          "name": "stdout",
          "output_type": "stream",
          "text": [
            "2280889893936 Address of iterator 1\n",
            "2280889893936 Address of iterator 2\n"
          ]
        }
      ],
      "source": [
        "num = [1,2,3]\n",
        "iter_obj = iter(num)\n",
        "\n",
        "print(id(iter_obj),'Address of iterator 1')\n",
        "\n",
        "iter_obj2 = iter(iter_obj)\n",
        "print(id(iter_obj2),'Address of iterator 2')"
      ]
    },
    {
      "cell_type": "markdown",
      "id": "051af6bc",
      "metadata": {
        "id": "051af6bc"
      },
      "source": [
        "## Let's create our own range() function"
      ]
    },
    {
      "cell_type": "code",
      "execution_count": null,
      "id": "7eaf1228",
      "metadata": {
        "id": "7eaf1228"
      },
      "outputs": [],
      "source": [
        "class mera_range:\n",
        "\n",
        "    def __init__(self,start,end):\n",
        "        self.start = start\n",
        "        self.end = end\n",
        "\n",
        "    def __iter__(self):\n",
        "        return mera_range_iterator(self)"
      ]
    },
    {
      "cell_type": "code",
      "execution_count": null,
      "id": "28118f2d",
      "metadata": {
        "id": "28118f2d"
      },
      "outputs": [],
      "source": [
        "class mera_range_iterator:\n",
        "\n",
        "    def __init__(self,iterable_obj):\n",
        "        self.iterable = iterable_obj\n",
        "\n",
        "    def __iter__(self):\n",
        "        return self\n",
        "\n",
        "    def __next__(self):\n",
        "\n",
        "        if self.iterable.start >= self.iterable.end:\n",
        "            raise StopIteration\n",
        "\n",
        "        current = self.iterable.start\n",
        "        self.iterable.start+=1\n",
        "        return current"
      ]
    },
    {
      "cell_type": "code",
      "execution_count": null,
      "id": "142c0b98",
      "metadata": {
        "id": "142c0b98"
      },
      "outputs": [],
      "source": [
        "x = mera_range(1,11)"
      ]
    },
    {
      "cell_type": "code",
      "execution_count": null,
      "id": "5aaaeeb3",
      "metadata": {
        "id": "5aaaeeb3",
        "outputId": "dc14b4e9-b04a-493d-9dfc-e651d1703888"
      },
      "outputs": [
        {
          "data": {
            "text/plain": [
              "__main__.mera_range"
            ]
          },
          "execution_count": 71,
          "metadata": {},
          "output_type": "execute_result"
        }
      ],
      "source": [
        "type(x)"
      ]
    },
    {
      "cell_type": "code",
      "execution_count": null,
      "id": "8e742864",
      "metadata": {
        "id": "8e742864",
        "outputId": "d838baf4-8a9f-4528-b363-272bcbf6c2de"
      },
      "outputs": [
        {
          "data": {
            "text/plain": [
              "<__main__.mera_range_iterator at 0x2130fd362b0>"
            ]
          },
          "execution_count": 72,
          "metadata": {},
          "output_type": "execute_result"
        }
      ],
      "source": [
        "iter(x)"
      ]
    },
    {
      "cell_type": "code",
      "execution_count": null,
      "id": "95380d0b",
      "metadata": {
        "id": "95380d0b"
      },
      "outputs": [],
      "source": []
    }
  ],
  "metadata": {
    "kernelspec": {
      "display_name": "Python 3",
      "language": "python",
      "name": "python3"
    },
    "language_info": {
      "codemirror_mode": {
        "name": "ipython",
        "version": 3
      },
      "file_extension": ".py",
      "mimetype": "text/x-python",
      "name": "python",
      "nbconvert_exporter": "python",
      "pygments_lexer": "ipython3",
      "version": "3.8.8"
    },
    "colab": {
      "provenance": [],
      "toc_visible": true,
      "include_colab_link": true
    }
  },
  "nbformat": 4,
  "nbformat_minor": 5
}